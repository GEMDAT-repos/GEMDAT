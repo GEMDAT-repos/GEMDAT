{
 "cells": [
  {
   "cell_type": "code",
   "execution_count": 1,
   "id": "e4ee47c8-75d2-4189-8893-ddd7832bc5df",
   "metadata": {},
   "outputs": [],
   "source": [
    "%load_ext autoreload\n",
    "%autoreload 2"
   ]
  },
  {
   "cell_type": "markdown",
   "id": "2d3feb2e-9589-4039-8d81-d75e143f0c6b",
   "metadata": {},
   "source": [
    "## Shape analysis\n",
    "\n",
    "The goal is to have a generalized algorithm that for all symmetrically equivalent cluster centers, find nearest atoms from trajectory, and transforms them back to the asymmetric unit. This helps the statistics for performing shape analysis and making plots.\n",
    "\n",
    "As input:\n",
    "\n",
    "1. crystal or material structure\n",
    "    - contains cluster centers\n",
    "    - includes symmetry operations\n",
    "2. trajectory\n",
    "    - typically P1\n",
    "    - maybe a supercell of crystal structure\n",
    "    - lattice can be triclinic (non-constrained in simulation)\n",
    "\n",
    "Algorithm:\n",
    "\n",
    "1. load clusters (pymatgen structure)\n",
    "2. load trajectory (pymatgen trajectory)\n",
    "3. reduce supercell of trajectory to match clusters\n",
    "    - assert trajectory and cluster lattices match\n",
    "4. for every unique cluster center, \n",
    "    5. for every symmetry operation\n",
    "    - apply next symmetry operation to cluster center\n",
    "    - find all trajectory points within X distance\n",
    "    - copy and map points back to asymmetric unit (reverse symmetry op)\n",
    "    - subtract cluster center coords\n",
    "10. perform shape analysis\n",
    "    - plots, fits, heat maps, msd, etc\n",
    "   \n",
    "See: https://github.com/GEMDAT-repos/GEMDAT/pull/166"
   ]
  },
  {
   "cell_type": "code",
   "execution_count": 2,
   "id": "fa85efaa-2443-4579-ab75-b40dbaab6ea1",
   "metadata": {},
   "outputs": [
    {
     "name": "stderr",
     "output_type": "stream",
     "text": [
      "/home/stef/python/gemdat/.venv/lib64/python3.11/site-packages/MDAnalysis/topology/TPRParser.py:161: DeprecationWarning: 'xdrlib' is deprecated and slated for removal in Python 3.13\n",
      "  import xdrlib\n"
     ]
    }
   ],
   "source": [
    "from __future__ import annotations\n",
    "\n",
    "from pathlib import Path\n",
    "\n",
    "import numpy as np\n",
    "\n",
    "from gemdat import Trajectory\n",
    "from gemdat.io import load_known_material\n",
    "\n",
    "trajectory = Trajectory.from_vasprun(\n",
    "    Path(\n",
    "        '/home/stef/md-analysis-matlab-example-short/shape_analysis/vasprun.xml'\n",
    "    ))\n",
    "\n",
    "supercell = (2, 1, 1)\n",
    "\n",
    "diff_trajectory = trajectory.filter('Li')\n",
    "\n",
    "structure = load_known_material('argyrodite')"
   ]
  },
  {
   "cell_type": "code",
   "execution_count": 3,
   "id": "53752658-c773-49c9-a118-00617a4512b1",
   "metadata": {},
   "outputs": [
    {
     "data": {
      "text/plain": [
       "Lattice\n",
       "    abc : 19.84771 9.923855 9.923855\n",
       " angles : 90.0 90.0 90.0\n",
       " volume : 1954.6600006747865\n",
       "      A : 19.84771 0.0 0.0\n",
       "      B : 0.0 9.923855 0.0\n",
       "      C : 0.0 0.0 9.923855\n",
       "    pbc : True True True"
      ]
     },
     "execution_count": 3,
     "metadata": {},
     "output_type": "execute_result"
    }
   ],
   "source": [
    "diff_trajectory.get_lattice(0)"
   ]
  },
  {
   "cell_type": "code",
   "execution_count": 4,
   "id": "b0e81adf-432f-4654-862d-2e0ec7088192",
   "metadata": {},
   "outputs": [
    {
     "data": {
      "text/plain": [
       "(array([[0.16145033, 0.33547197, 0.02452775],\n",
       "        [0.10760483, 0.71007687, 0.50529059],\n",
       "        [0.37023313, 0.71662174, 0.00237432],\n",
       "        ...,\n",
       "        [0.5081269 , 0.69439527, 0.7062491 ],\n",
       "        [0.91863445, 0.47414316, 0.64892594],\n",
       "        [0.00493453, 0.24402231, 0.67557806]]),\n",
       " (240000, 3))"
      ]
     },
     "execution_count": 4,
     "metadata": {},
     "output_type": "execute_result"
    }
   ],
   "source": [
    "# collapse coords\n",
    "positions = diff_trajectory.positions.reshape(-1, 3)\n",
    "positions, positions.shape"
   ]
  },
  {
   "cell_type": "code",
   "execution_count": 5,
   "id": "99180e29-6e54-4dcc-957c-11e23dee8e84",
   "metadata": {},
   "outputs": [
    {
     "data": {
      "text/plain": [
       "(array([[0.32290066, 0.33547197, 0.02452775],\n",
       "        [0.21520966, 0.71007687, 0.50529059],\n",
       "        [0.74046626, 0.71662174, 0.00237432],\n",
       "        ...,\n",
       "        [0.0162538 , 0.69439527, 0.7062491 ],\n",
       "        [0.8372689 , 0.47414316, 0.64892594],\n",
       "        [0.00986906, 0.24402231, 0.67557806]]),\n",
       " (240000, 3))"
      ]
     },
     "execution_count": 5,
     "metadata": {},
     "output_type": "execute_result"
    }
   ],
   "source": [
    "# collapse supercell\n",
    "positions = np.mod(positions, 1 / np.array(supercell)) * np.array(supercell)\n",
    "positions, positions.shape"
   ]
  },
  {
   "cell_type": "code",
   "execution_count": 6,
   "id": "8d44c422-1ea7-408c-8140-a3c3dd7d8694",
   "metadata": {},
   "outputs": [
    {
     "data": {
      "text/plain": [
       "Lattice\n",
       "    abc : 9.924 9.924 9.924\n",
       " angles : 90.0 90.0 90.0\n",
       " volume : 977.3728410239999\n",
       "      A : 9.924 0.0 6.076697417369166e-16\n",
       "      B : 1.5959009175390938e-15 9.924 6.076697417369166e-16\n",
       "      C : 0.0 0.0 9.924\n",
       "    pbc : True True True"
      ]
     },
     "execution_count": 6,
     "metadata": {},
     "output_type": "execute_result"
    }
   ],
   "source": [
    "from pymatgen import symmetry\n",
    "\n",
    "sga = symmetry.analyzer.SpacegroupAnalyzer(structure)\n",
    "\n",
    "symops = sga.get_space_group_operations()\n",
    "symstruct = sga.get_symmetrized_structure()\n",
    "lattice = symstruct.lattice\n",
    "lattice"
   ]
  },
  {
   "cell_type": "code",
   "execution_count": 7,
   "id": "5e918a46-c1b0-4067-9cad-01d7120109b7",
   "metadata": {},
   "outputs": [
    {
     "name": "stdout",
     "output_type": "stream",
     "text": [
      "13077\n",
      "16749\n",
      "8928\n",
      "10944\n",
      "11010\n",
      "10434\n",
      "9204\n",
      "9561\n",
      "9798\n",
      "14223\n",
      "12972\n",
      "10182\n",
      "16035\n",
      "12117\n",
      "7965\n",
      "12774\n",
      "4278\n",
      "9111\n",
      "14271\n",
      "13518\n",
      "14988\n",
      "12252\n",
      "14571\n",
      "11331\n",
      "14025\n",
      "16701\n",
      "11118\n",
      "13278\n",
      "10503\n",
      "13374\n",
      "19356\n",
      "11346\n",
      "9909\n",
      "12429\n",
      "16302\n",
      "5379\n",
      "14229\n",
      "17232\n",
      "11613\n",
      "11436\n",
      "5034\n",
      "15078\n",
      "18936\n",
      "16548\n",
      "16341\n",
      "21615\n",
      "7374\n",
      "10905\n"
     ]
    }
   ],
   "source": [
    "thresh = 1.0  # Å\n",
    "\n",
    "cluster = []\n",
    "\n",
    "site0 = symstruct[0]\n",
    "\n",
    "# TODO: check if symops and symstruct match\n",
    "\n",
    "for op, site in zip(symops, symstruct):\n",
    "    # print(op, site)\n",
    "    # print(site.frac_coords)\n",
    "\n",
    "    dists = lattice.get_all_distances(site.frac_coords, positions)\n",
    "\n",
    "    sel = dists < thresh\n",
    "    close = positions[sel.flatten()]\n",
    "\n",
    "    print(close.size)\n",
    "\n",
    "    inversed = op.inverse.operate_multi(close) - site0.frac_coords  # FIXME\n",
    "    cluster.append(inversed)"
   ]
  },
  {
   "cell_type": "code",
   "execution_count": 8,
   "id": "e00bd0b8-a107-418e-be1a-cf954e11353a",
   "metadata": {},
   "outputs": [],
   "source": [
    "cluster = np.vstack(cluster)"
   ]
  },
  {
   "cell_type": "code",
   "execution_count": 9,
   "id": "216799ab-71ad-4ae7-b9aa-1c08f323efef",
   "metadata": {},
   "outputs": [
    {
     "data": {
      "text/plain": [
       "(array([-1.18298001, -1.18299946, -1.02399203]),\n",
       " array([0.81699505, 0.8169879 , 0.97599514]))"
      ]
     },
     "execution_count": 9,
     "metadata": {},
     "output_type": "execute_result"
    }
   ],
   "source": [
    "cluster.min(axis=0), cluster.max(axis=0)"
   ]
  },
  {
   "cell_type": "markdown",
   "id": "fbaa2cf8-ec04-4a5a-9401-ec88ced70cff",
   "metadata": {},
   "source": [
    "## Try reversible symops"
   ]
  },
  {
   "cell_type": "code",
   "execution_count": 10,
   "id": "599c16be-4e25-4f9e-8624-c8f3d11c1145",
   "metadata": {},
   "outputs": [
    {
     "data": {
      "text/plain": [
       "True"
      ]
     },
     "execution_count": 10,
     "metadata": {},
     "output_type": "execute_result"
    }
   ],
   "source": [
    "tmp = op.operate_multi(positions)\n",
    "positions2 = op.inverse.operate_multi(tmp)\n",
    "np.allclose(positions2, positions)"
   ]
  },
  {
   "cell_type": "markdown",
   "id": "5600adb5-d045-4988-b4eb-c2d690ed4bdf",
   "metadata": {},
   "source": [
    "## Get distances"
   ]
  },
  {
   "cell_type": "code",
   "execution_count": 11,
   "id": "df5a8dd9-8522-4590-96f2-29634f60e467",
   "metadata": {},
   "outputs": [
    {
     "data": {
      "text/plain": [
       "10905"
      ]
     },
     "execution_count": 11,
     "metadata": {},
     "output_type": "execute_result"
    }
   ],
   "source": [
    "dists = symstruct.lattice.get_all_distances(site.frac_coords, positions)\n",
    "\n",
    "sel = dists < thresh\n",
    "positions[sel.flatten()].size"
   ]
  },
  {
   "cell_type": "markdown",
   "id": "d628ca08-3617-4407-bf0b-0188adad6658",
   "metadata": {},
   "source": [
    "## This goes wrong"
   ]
  },
  {
   "cell_type": "code",
   "execution_count": 12,
   "id": "c38a10dc-df47-456a-be4e-57b1142ecebb",
   "metadata": {},
   "outputs": [
    {
     "data": {
      "text/plain": [
       "array([ 0.183, -0.024, -0.183])"
      ]
     },
     "execution_count": 12,
     "metadata": {},
     "output_type": "execute_result"
    }
   ],
   "source": [
    "op.inverse.operate_multi(site.frac_coords)"
   ]
  },
  {
   "cell_type": "code",
   "execution_count": 13,
   "id": "495f6a06-68fb-4d2d-b781-0582104a2efa",
   "metadata": {},
   "outputs": [
    {
     "data": {
      "text/plain": [
       "array([0.317, 0.317, 0.024])"
      ]
     },
     "execution_count": 13,
     "metadata": {},
     "output_type": "execute_result"
    }
   ],
   "source": [
    "site.frac_coords"
   ]
  },
  {
   "cell_type": "code",
   "execution_count": 14,
   "id": "4a56d8b9-1f81-4455-ad97-90177f9cdadf",
   "metadata": {},
   "outputs": [
    {
     "data": {
      "text/plain": [
       "array([0.183, 0.183, 0.024])"
      ]
     },
     "execution_count": 14,
     "metadata": {},
     "output_type": "execute_result"
    }
   ],
   "source": [
    "site0.frac_coords"
   ]
  },
  {
   "cell_type": "code",
   "execution_count": null,
   "id": "d883a01c-9e3a-445d-bddf-077f158edef0",
   "metadata": {},
   "outputs": [],
   "source": []
  }
 ],
 "metadata": {
  "kernelspec": {
   "display_name": "Python 3 (ipykernel)",
   "language": "python",
   "name": "python3"
  },
  "language_info": {
   "codemirror_mode": {
    "name": "ipython",
    "version": 3
   },
   "file_extension": ".py",
   "mimetype": "text/x-python",
   "name": "python",
   "nbconvert_exporter": "python",
   "pygments_lexer": "ipython3",
   "version": "3.11.5"
  }
 },
 "nbformat": 4,
 "nbformat_minor": 5
}

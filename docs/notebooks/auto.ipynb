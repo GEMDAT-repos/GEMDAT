{
 "cells": [
  {
   "cell_type": "code",
   "execution_count": 1,
   "id": "8c2bc363-8183-496c-ad5f-82bb43afa4e1",
   "metadata": {
    "tags": []
   },
   "outputs": [
    {
     "name": "stderr",
     "output_type": "stream",
     "text": [
      "/home/vikko/local_projects/GEMDAT/.venv/lib/python3.11/site-packages/MDAnalysis/topology/TPRParser.py:161: DeprecationWarning: 'xdrlib' is deprecated and slated for removal in Python 3.13\n",
      "  import xdrlib\n"
     ]
    }
   ],
   "source": [
    "from pathlib import Path\n",
    "\n",
    "from gemdat import SitesData, Trajectory, plots"
   ]
  },
  {
   "cell_type": "code",
   "execution_count": 2,
   "id": "4e8b03b4-a6d4-44ab-b683-e46fbb1d1e08",
   "metadata": {
    "tags": []
   },
   "outputs": [
    {
     "data": {
      "text/plain": [
       "'<gemdat.trajectory.Trajectory object at 0x7f98f23d3f10>'"
      ]
     },
     "execution_count": 2,
     "metadata": {},
     "output_type": "execute_result"
    }
   ],
   "source": [
    "# Get our trajectory\n",
    "trajectory = Trajectory.from_vasprun(Path('../../example/vasprun.xml'))\n",
    "\n",
    "# Create a new trajectory object that only consists of Lithium\n",
    "diff_trajectory = trajectory.filter('Li')\n",
    "diff_trajectory.__str__()"
   ]
  },
  {
   "cell_type": "code",
   "execution_count": 3,
   "id": "6bbf08ba-b210-4d88-8c65-5203503d438e",
   "metadata": {
    "tags": []
   },
   "outputs": [],
   "source": [
    "# Lets create a volume from our trajectory of diffusive elements\n",
    "from gemdat.volume import trajectory_to_volume\n",
    "\n",
    "# Resolution is the minimum size of the voxels in Angstrom\n",
    "diff_volume = trajectory_to_volume(diff_trajectory, resolution=0.2)"
   ]
  },
  {
   "cell_type": "code",
   "execution_count": 4,
   "id": "b3051a98-b0f1-41b2-8585-30aaeda000bb",
   "metadata": {
    "tags": []
   },
   "outputs": [
    {
     "data": {
      "text/plain": [
       "Structure Summary\n",
       "Lattice\n",
       "    abc : 19.873726186669696 9.919447462770213 9.916453611751622\n",
       " angles : 90.2141142206055 90.85913455159614 89.95047426162805\n",
       " volume : 1954.6597409551687\n",
       "      A : 19.87317911 0.0062081 -0.14732978\n",
       "      B : 0.0053182 9.91942326 -0.02125729\n",
       "      C : -0.0751747 -0.01576718 9.91615613\n",
       "    pbc : True True True\n",
       "PeriodicSite: Li (4.763, 2.333, 2.829) [0.2407, 0.2355, 0.2893]\n",
       "PeriodicSite: Li (4.816, 3.116, 1.963) [0.243, 0.3143, 0.2022]\n",
       "PeriodicSite: Li (7.0, 0.4973, 6.857) [0.3549, 0.05102, 0.6969]\n",
       "PeriodicSite: Li (7.852, 0.4839, 7.825) [0.3981, 0.0498, 0.7952]\n",
       "PeriodicSite: Li (9.516, 6.173, 2.822) [0.4798, 0.6224, 0.293]\n",
       "PeriodicSite: Li (9.863, 7.065, 2.998) [0.4973, 0.7125, 0.3112]\n",
       "PeriodicSite: Li (9.522, 9.21, 2.338) [0.4798, 0.9286, 0.2449]\n",
       "PeriodicSite: Li (9.791, 8.125, 1.823) [0.4932, 0.8191, 0.1929]\n",
       "PeriodicSite: Li (5.284, 7.218, 2.013) [0.2665, 0.7278, 0.2085]\n",
       "PeriodicSite: Li (5.309, 8.046, 2.909) [0.2681, 0.8115, 0.2991]\n",
       "PeriodicSite: Li (5.794, 7.991, 4.189) [0.2929, 0.8061, 0.4286]\n",
       "PeriodicSite: Li (6.929, 8.226, 4.624) [0.3502, 0.8298, 0.4733]\n",
       "PeriodicSite: Li (7.234, 9.342, 4.075) [0.3653, 0.9422, 0.4184]\n",
       "PeriodicSite: Li (6.924, 0.04318, 2.802) [0.3495, 0.004592, 0.2878]\n",
       "PeriodicSite: Li (7.294, 9.821, 2.872) [0.3679, 0.9903, 0.2972]\n",
       "PeriodicSite: Li (7.726, 9.414, 0.9344) [0.3889, 0.949, 0.102]\n",
       "PeriodicSite: Li (8.054, 9.861, 1.839) [0.4057, 0.9942, 0.1936]\n",
       "PeriodicSite: Li (7.038, 7.134, 0.205) [0.3541, 0.719, 0.02747]\n",
       "PeriodicSite: Li (7.313, 6.056, 0.6887) [0.3681, 0.6104, 0.07623]\n",
       "PeriodicSite: Li (7.941, 8.031, 0.1639) [0.3995, 0.8094, 0.0242]\n",
       "PeriodicSite: Li (7.119, 5.416, 1.821) [0.3588, 0.5461, 0.1902]\n",
       "PeriodicSite: Li (7.836, 6.025, 4.2) [0.3957, 0.6079, 0.4308]\n",
       "PeriodicSite: Li (8.075, 7.032, 4.643) [0.4079, 0.7094, 0.4758]\n",
       "PeriodicSite: Li (8.084, 5.374, 3.051) [0.4078, 0.542, 0.3149]\n",
       "PeriodicSite: Li (6.004, 2.973, 9.156) [0.3056, 0.301, 0.9286]\n",
       "PeriodicSite: Li (7.117, 3.341, 9.535) [0.3617, 0.3382, 0.9677]\n",
       "PeriodicSite: Li (5.295, 2.292, 6.871) [0.269, 0.232, 0.6974]\n",
       "PeriodicSite: Li (5.679, 2.726, 5.719) [0.2879, 0.2755, 0.5816]\n",
       "PeriodicSite: Li (5.293, 3.133, 7.922) [0.2693, 0.3169, 0.8036]\n",
       "PeriodicSite: Li (8.098, 2.232, 9.558) [0.4111, 0.2263, 0.9705]\n",
       "PeriodicSite: Li (5.865, 4.544, 7.738) [0.298, 0.4592, 0.7857]\n",
       "PeriodicSite: Li (7.032, 4.973, 7.813) [0.3567, 0.5024, 0.7943]\n",
       "PeriodicSite: Li (7.788, 4.447, 5.599) [0.3939, 0.449, 0.5714]\n",
       "PeriodicSite: Li (7.986, 4.931, 6.658) [0.4043, 0.4979, 0.6785]\n",
       "PeriodicSite: Li (9.293, 3.106, 5.616) [0.4697, 0.3138, 0.574]\n",
       "PeriodicSite: Li (9.8, 3.341, 6.747) [0.4957, 0.3376, 0.6885]\n",
       "PeriodicSite: Li (8.132, 3.244, 5.076) [0.4111, 0.3276, 0.5187]\n",
       "PeriodicSite: Li (6.976, 2.059, 5.207) [0.353, 0.2082, 0.5308]\n",
       "PeriodicSite: Li (9.699, 2.294, 8.031) [0.4911, 0.2323, 0.8176]\n",
       "PeriodicSite: Li (18.51, 9.765, 1.726) [0.9319, 0.9842, 0.19]\n",
       "PeriodicSite: Li (19.5, 8.735, 1.733) [0.9817, 0.8802, 0.1912]\n",
       "PeriodicSite: Li (16.88, 7.059, 0.05741) [0.8492, 0.7111, 0.01993]\n",
       "PeriodicSite: Li (18.16, 8.328, 0.05528) [0.9134, 0.8391, 0.02095]\n",
       "PeriodicSite: Li (10.22, 3.415, 3.392) [0.5154, 0.3445, 0.3505]\n",
       "PeriodicSite: Li (11.62, 3.478, 4.847) [0.5864, 0.3511, 0.4983]\n",
       "PeriodicSite: Li (11.66, 4.927, 3.38) [0.5877, 0.4968, 0.3506]\n",
       "PeriodicSite: Li (1.979, 4.972, 2.982) [0.1006, 0.5017, 0.3033]\n",
       "PeriodicSite: Li (3.066, 4.857, 1.756) [0.1548, 0.4898, 0.1804]\n",
       "PeriodicSite: Li (15.27, 8.399, 3.377) [0.7692, 0.8468, 0.3538]\n",
       "PeriodicSite: Li (16.58, 8.426, 4.583) [0.8357, 0.8497, 0.4764]\n",
       "PeriodicSite: Li (15.16, 6.723, 1.721) [0.7631, 0.6776, 0.1864]\n",
       "PeriodicSite: Li (16.69, 5.296, 1.711) [0.8404, 0.5336, 0.1862]\n",
       "PeriodicSite: Li (10.74, 2.33, 0.6237) [0.5404, 0.2347, 0.07143]\n",
       "PeriodicSite: Li (11.78, 1.884, 0.3024) [0.5928, 0.1897, 0.03971]\n",
       "PeriodicSite: Li (10.34, 1.846, 1.717) [0.5209, 0.1861, 0.1813]\n",
       "PeriodicSite: Li (11.73, 0.4603, 1.648) [0.5909, 0.04631, 0.175]\n",
       "PeriodicSite: Li (13.51, 4.854, 1.719) [0.6804, 0.4892, 0.1845]\n",
       "PeriodicSite: Li (14.78, 3.49, 1.65) [0.7444, 0.3516, 0.1782]\n",
       "PeriodicSite: Li (13.4, 3.275, 0.2016) [0.6744, 0.3298, 0.03106]\n",
       "PeriodicSite: Li (1.102, 2.429, 0.4925) [0.05556, 0.2449, 0.05102]\n",
       "PeriodicSite: Li (2.188, 2.191, 0.2032) [0.1101, 0.2209, 0.02261]\n",
       "PeriodicSite: Li (3.048, 3.103, 0.1749) [0.1534, 0.3127, 0.02059]\n",
       "PeriodicSite: Li (0.2869, 2.249, 2.026) [0.01515, 0.2271, 0.205]\n",
       "PeriodicSite: Li (0.3121, 3.357, 2.895) [0.01672, 0.3389, 0.2929]\n",
       "PeriodicSite: Li (0.9523, 3.01, 4.337) [0.04949, 0.3041, 0.4388]\n",
       "PeriodicSite: Li (2.044, 3.293, 4.684) [0.1046, 0.3327, 0.4747]\n",
       "PeriodicSite: Li (2.798, 0.986, 4.267) [0.1424, 0.1, 0.4327]\n",
       "PeriodicSite: Li (3.059, 2.07, 4.679) [0.1556, 0.2093, 0.4746]\n",
       "PeriodicSite: Li (2.074, 0.4058, 2.036) [0.1051, 0.04117, 0.207]\n",
       "PeriodicSite: Li (2.909, 0.4626, 3.053) [0.1475, 0.04704, 0.3102]\n",
       "PeriodicSite: Li (1.657, 8.2, 9.642) [0.08685, 0.8282, 0.9754]\n",
       "PeriodicSite: Li (3.111, 6.932, 9.701) [0.1601, 0.7003, 0.9822]\n",
       "PeriodicSite: Li (1.568, -0.01208, 7.903) [0.08193, 0.0, 0.7982]\n",
       "PeriodicSite: Li (1.951, 9.899, 8.129) [0.101, 0.9992, 0.8234]\n",
       "PeriodicSite: Li (0.2314, 8.343, 8.052) [0.0145, 0.8423, 0.814]\n",
       "PeriodicSite: Li (0.6485, 9.199, 7.766) [0.03535, 0.9286, 0.7857]\n",
       "PeriodicSite: Li (12.82, 5.962, 8.83) [0.6481, 0.602, 0.9014]\n",
       "PeriodicSite: Li (12.91, 5.41, 7.884) [0.6526, 0.5462, 0.8059]\n",
       "PeriodicSite: Li (11.93, 8.249, 9.492) [0.6039, 0.8328, 0.968]\n",
       "PeriodicSite: Li (12.86, 7.228, 9.533) [0.6504, 0.7298, 0.9726]\n",
       "PeriodicSite: Li (10.21, 7.106, 6.74) [0.5159, 0.7171, 0.6889]\n",
       "PeriodicSite: Li (10.71, 7.296, 5.658) [0.5411, 0.7362, 0.5802]\n",
       "PeriodicSite: Li (11.77, 6.975, 5.043) [0.5942, 0.7036, 0.5189]\n",
       "PeriodicSite: Li (12.1, 5.862, 5.533) [0.6109, 0.5914, 0.5683]\n",
       "PeriodicSite: Li (11.86, 5.362, 6.791) [0.5992, 0.5413, 0.6949]\n",
       "PeriodicSite: Li (10.24, 8.185, 7.794) [0.5182, 0.8261, 0.7955]\n",
       "PeriodicSite: Li (13.14, 8.299, 5.047) [0.6628, 0.8371, 0.5206]\n",
       "PeriodicSite: Li (14.04, 8.007, 5.475) [0.7082, 0.8077, 0.5644]\n",
       "PeriodicSite: Li (12.83, 9.236, 5.41) [0.6475, 0.9316, 0.5571]\n",
       "PeriodicSite: Li (14.3, 9.204, 7.058) [0.7222, 0.9286, 0.7245]\n",
       "PeriodicSite: Li (14.72, 8.202, 6.709) [0.7428, 0.8275, 0.6894]\n",
       "PeriodicSite: Li (13.07, 9.87, 6.728) [0.6598, 0.9957, 0.6904]\n",
       "PeriodicSite: Li (14.71, 7.173, 7.794) [0.7429, 0.7239, 0.7986]\n",
       "PeriodicSite: Li (11.66, 9.744, 7.839) [0.5894, 0.9832, 0.8013]\n",
       "PeriodicSite: Li (19.46, 6.02, 2.637) [0.9802, 0.6068, 0.2818]\n",
       "PeriodicSite: Li (19.58, 6.683, 3.072) [0.9863, 0.6737, 0.3259]\n",
       "PeriodicSite: Li (0.6006, 6.71, 3.407) [0.03135, 0.677, 0.3455]\n",
       "PeriodicSite: Li (18.29, 5.448, 3.206) [0.9212, 0.5492, 0.3382]\n",
       "PeriodicSite: Li (18.81, 6.528, 5.911) [0.9488, 0.6585, 0.6116]\n",
       "PeriodicSite: Li (19.59, 6.834, 6.427) [0.988, 0.6894, 0.6643]\n",
       "PeriodicSite: Li (18.27, 6.849, 4.866) [0.9209, 0.6907, 0.5059]\n",
       "PeriodicSite: Li (0.7945, 5.674, 7.014) [0.04251, 0.5731, 0.7092]\n",
       "PeriodicSite: Li (1.765, 5.211, 6.683) [0.09122, 0.5264, 0.6764]\n",
       "PeriodicSite: Li (1.79, 6.766, 4.897) [0.09179, 0.6828, 0.4967]\n",
       "PeriodicSite: Li (2.1, 5.813, 5.628) [0.1077, 0.5869, 0.5704]\n",
       "PeriodicSite: Li (15.79, 4.29, 7.517) [0.7975, 0.4332, 0.7709]\n",
       "PeriodicSite: Li (16.82, 4.756, 7.809) [0.8495, 0.4802, 0.8012]\n",
       "PeriodicSite: Li (15.16, 3.143, 7.827) [0.7658, 0.3177, 0.8014]\n",
       "PeriodicSite: Li (15.19, 1.964, 6.789) [0.7669, 0.1986, 0.6965]\n",
       "PeriodicSite: Li (15.58, 1.026, 7.106) [0.7869, 0.1041, 0.7286]\n",
       "PeriodicSite: Li (15.59, 2.324, 5.573) [0.7865, 0.2347, 0.5742]\n",
       "PeriodicSite: Li (16.77, 0.3756, 6.69) [0.8465, 0.03843, 0.6873]\n",
       "PeriodicSite: Li (17.07, 0.6973, 5.579) [0.8612, 0.07067, 0.5756]\n",
       "PeriodicSite: Li (16.77, 1.855, 4.948) [0.8459, 0.1873, 0.5119]\n",
       "PeriodicSite: Li (12.83, 0.8474, 4.22) [0.6471, 0.08571, 0.4354]\n",
       "PeriodicSite: Li (13.16, 1.821, 4.758) [0.6638, 0.184, 0.4901]\n",
       "PeriodicSite: Li (13.28, 0.2489, 3.135) [0.6695, 0.02519, 0.3261]\n",
       "PeriodicSite: Li (14.37, 0.7085, 2.753) [0.7241, 0.07143, 0.2885]\n",
       "PeriodicSite: Li (15.0, 1.833, 3.122) [0.7562, 0.1848, 0.3264]\n",
       "PeriodicSite: Li (16.09, 1.495, 3.644) [0.8109, 0.1508, 0.3798]\n",
       "PeriodicSite: Li (14.41, 2.407, 4.178) [0.7268, 0.2429, 0.4327]\n",
       "PeriodicSite: Li (16.59, 0.2379, 3.041) [0.8359, 0.02397, 0.3192]\n",
       "PeriodicSite: Li (19.16, 0.9294, 7.494) [0.9668, 0.09431, 0.7703]\n",
       "PeriodicSite: Li (19.5, 1.512, 7.56) [0.9843, 0.1531, 0.7773]\n",
       "PeriodicSite: Li (19.6, 2.187, 7.806) [0.9891, 0.2211, 0.8024]\n",
       "PeriodicSite: Li (17.67, 0.8153, 8.959) [0.8925, 0.08309, 0.9169]\n",
       "PeriodicSite: Li (18.09, 0.458, 7.883) [0.9135, 0.04688, 0.8086]\n",
       "PeriodicSite: Li (16.88, 3.087, 9.512) [0.853, 0.3122, 0.9726]\n",
       "PeriodicSite: Li (17.76, 2.089, 9.456) [0.897, 0.2116, 0.9673]\n",
       "PeriodicSite: Li (17.79, 4.31, 5.373) [0.8973, 0.4348, 0.5561]\n",
       "PeriodicSite: Li (18.12, 3.338, 4.996) [0.9138, 0.3367, 0.5181]\n",
       "PeriodicSite: Li (19.15, 3.025, 5.531) [0.9655, 0.3053, 0.5728]\n",
       "PeriodicSite: Li (19.56, 3.357, 6.756) [0.987, 0.3389, 0.6967]\n",
       "PeriodicSite: Li (18.12, 4.939, 6.65) [0.9145, 0.4984, 0.6853]\n",
       "PeriodicSite: Li (3.181, 5.345, 8.12) [0.163, 0.54, 0.8224]\n",
       "PeriodicSite: Li (3.139, 8.363, 5.057) [0.1597, 0.8438, 0.5141]\n",
       "PeriodicSite: Li (3.162, 9.736, 6.373) [0.1613, 0.9825, 0.6472]\n",
       "PeriodicSite: Li (4.768, 6.907, 8.03) [0.2428, 0.6975, 0.8149]\n",
       "PeriodicSite: Li (4.723, 8.399, 6.612) [0.24, 0.8476, 0.6722]"
      ]
     },
     "execution_count": 4,
     "metadata": {},
     "output_type": "execute_result"
    }
   ],
   "source": [
    "# Now convert it to a structure\n",
    "structure = diff_volume.to_structure(specie='Li', background_level=0.1)\n",
    "\n",
    "structure"
   ]
  },
  {
   "cell_type": "code",
   "execution_count": 5,
   "id": "132239ec-92bf-426c-a687-62eb393f1aa5",
   "metadata": {
    "tags": []
   },
   "outputs": [
    {
     "ename": "ValueError",
     "evalue": "Crystallographic sites are too close together (expected: >0.3922, got: 0.4022 for \nToo close:{site_i.specie.name}({i}) {site_i.frac_coords} - Li(14) [0.36790987 0.9903192  0.29722658]\nToo close:{site_i.specie.name}({i}) {site_i.frac_coords} - Li(13) [0.34949495 0.00459184 0.2877551 ]",
     "output_type": "error",
     "traceback": [
      "\u001b[0;31m---------------------------------------------------------------------------\u001b[0m",
      "\u001b[0;31mValueError\u001b[0m                                Traceback (most recent call last)",
      "Cell \u001b[0;32mIn[5], line 2\u001b[0m\n\u001b[1;32m      1\u001b[0m \u001b[38;5;66;03m# Generate the sites from the generated structure\u001b[39;00m\n\u001b[0;32m----> 2\u001b[0m sites \u001b[38;5;241m=\u001b[39m \u001b[43mSitesData\u001b[49m\u001b[43m(\u001b[49m\n\u001b[1;32m      3\u001b[0m \u001b[43m    \u001b[49m\u001b[43mstructure\u001b[49m\u001b[38;5;241;43m=\u001b[39;49m\u001b[43mstructure\u001b[49m\u001b[43m,\u001b[49m\n\u001b[1;32m      4\u001b[0m \u001b[43m    \u001b[49m\u001b[43mtrajectory\u001b[49m\u001b[38;5;241;43m=\u001b[39;49m\u001b[43mtrajectory\u001b[49m\u001b[43m,\u001b[49m\n\u001b[1;32m      5\u001b[0m \u001b[43m    \u001b[49m\u001b[43mfloating_specie\u001b[49m\u001b[38;5;241;43m=\u001b[39;49m\u001b[38;5;124;43m'\u001b[39;49m\u001b[38;5;124;43mLi\u001b[39;49m\u001b[38;5;124;43m'\u001b[39;49m\u001b[43m,\u001b[49m\n\u001b[1;32m      6\u001b[0m \u001b[43m)\u001b[49m\n",
      "File \u001b[0;32m~/local_projects/GEMDAT/src/gemdat/sites.py:59\u001b[0m, in \u001b[0;36mSitesData.__init__\u001b[0;34m(self, structure, trajectory, floating_specie, n_parts)\u001b[0m\n\u001b[1;32m     55\u001b[0m \u001b[38;5;28mself\u001b[39m\u001b[38;5;241m.\u001b[39mmetrics \u001b[38;5;241m=\u001b[39m SimulationMetrics(\u001b[38;5;28mself\u001b[39m\u001b[38;5;241m.\u001b[39mdiff_trajectory)\n\u001b[1;32m     57\u001b[0m \u001b[38;5;28mself\u001b[39m\u001b[38;5;241m.\u001b[39mwarn_if_lattice_not_similar()\n\u001b[0;32m---> 59\u001b[0m \u001b[38;5;28mself\u001b[39m\u001b[38;5;241m.\u001b[39mtransitions \u001b[38;5;241m=\u001b[39m \u001b[43mTransitions\u001b[49m\u001b[38;5;241;43m.\u001b[39;49m\u001b[43mfrom_trajectory\u001b[49m\u001b[43m(\u001b[49m\n\u001b[1;32m     60\u001b[0m \u001b[43m    \u001b[49m\u001b[43mstructure\u001b[49m\u001b[38;5;241;43m=\u001b[39;49m\u001b[43mstructure\u001b[49m\u001b[43m,\u001b[49m\n\u001b[1;32m     61\u001b[0m \u001b[43m    \u001b[49m\u001b[43mtrajectory\u001b[49m\u001b[38;5;241;43m=\u001b[39;49m\u001b[43mtrajectory\u001b[49m\u001b[43m,\u001b[49m\n\u001b[1;32m     62\u001b[0m \u001b[43m    \u001b[49m\u001b[43mfloating_specie\u001b[49m\u001b[38;5;241;43m=\u001b[39;49m\u001b[43mfloating_specie\u001b[49m\u001b[43m)\u001b[49m\n\u001b[1;32m     64\u001b[0m \u001b[38;5;28mself\u001b[39m\u001b[38;5;241m.\u001b[39mset_split(n_parts)\n",
      "File \u001b[0;32m~/local_projects/GEMDAT/src/gemdat/transitions.py:77\u001b[0m, in \u001b[0;36mTransitions.from_trajectory\u001b[0;34m(cls, trajectory, structure, floating_specie)\u001b[0m\n\u001b[1;32m     73\u001b[0m diff_trajectory \u001b[38;5;241m=\u001b[39m trajectory\u001b[38;5;241m.\u001b[39mfilter(floating_specie)\n\u001b[1;32m     74\u001b[0m vibration_amplitude \u001b[38;5;241m=\u001b[39m SimulationMetrics(\n\u001b[1;32m     75\u001b[0m     diff_trajectory)\u001b[38;5;241m.\u001b[39mvibration_amplitude()\n\u001b[0;32m---> 77\u001b[0m dist_close \u001b[38;5;241m=\u001b[39m \u001b[43m_dist_close\u001b[49m\u001b[43m(\u001b[49m\u001b[43mtrajectory\u001b[49m\u001b[38;5;241;43m=\u001b[39;49m\u001b[43mtrajectory\u001b[49m\u001b[43m,\u001b[49m\n\u001b[1;32m     78\u001b[0m \u001b[43m                         \u001b[49m\u001b[43mstructure\u001b[49m\u001b[38;5;241;43m=\u001b[39;49m\u001b[43mstructure\u001b[49m\u001b[43m,\u001b[49m\n\u001b[1;32m     79\u001b[0m \u001b[43m                         \u001b[49m\u001b[43mvibration_amplitude\u001b[49m\u001b[38;5;241;43m=\u001b[39;49m\u001b[43mvibration_amplitude\u001b[49m\u001b[43m)\u001b[49m\n\u001b[1;32m     81\u001b[0m states \u001b[38;5;241m=\u001b[39m _calculate_atom_states(structure\u001b[38;5;241m=\u001b[39mstructure,\n\u001b[1;32m     82\u001b[0m                                 trajectory\u001b[38;5;241m=\u001b[39mdiff_trajectory,\n\u001b[1;32m     83\u001b[0m                                 dist_close\u001b[38;5;241m=\u001b[39mdist_close)\n\u001b[1;32m     84\u001b[0m events \u001b[38;5;241m=\u001b[39m _calculate_transition_events(atom_sites\u001b[38;5;241m=\u001b[39mstates)\n",
      "File \u001b[0;32m~/local_projects/GEMDAT/src/gemdat/transitions.py:257\u001b[0m, in \u001b[0;36m_dist_close\u001b[0;34m(trajectory, structure, vibration_amplitude)\u001b[0m\n\u001b[1;32m    253\u001b[0m             lines\u001b[38;5;241m.\u001b[39mappend(\u001b[38;5;124mf\u001b[39m\u001b[38;5;124m'\u001b[39m\u001b[38;5;132;01m{\u001b[39;00msite_j\u001b[38;5;241m.\u001b[39mspecie\u001b[38;5;241m.\u001b[39mname\u001b[38;5;132;01m}\u001b[39;00m\u001b[38;5;124m(\u001b[39m\u001b[38;5;132;01m{\u001b[39;00mj\u001b[38;5;132;01m}\u001b[39;00m\u001b[38;5;124m) \u001b[39m\u001b[38;5;132;01m{\u001b[39;00msite_j\u001b[38;5;241m.\u001b[39mfrac_coords\u001b[38;5;132;01m}\u001b[39;00m\u001b[38;5;124m'\u001b[39m)\n\u001b[1;32m    255\u001b[0m         msg \u001b[38;5;241m=\u001b[39m \u001b[38;5;124m'\u001b[39m\u001b[38;5;124m'\u001b[39m\u001b[38;5;241m.\u001b[39mjoin(lines)\n\u001b[0;32m--> 257\u001b[0m         \u001b[38;5;28;01mraise\u001b[39;00m \u001b[38;5;167;01mValueError\u001b[39;00m(\n\u001b[1;32m    258\u001b[0m             \u001b[38;5;124mf\u001b[39m\u001b[38;5;124m'\u001b[39m\u001b[38;5;124mCrystallographic sites are too close together (expected: >\u001b[39m\u001b[38;5;132;01m{\u001b[39;00mdist_close\u001b[38;5;241m*\u001b[39m\u001b[38;5;241m2\u001b[39m\u001b[38;5;132;01m:\u001b[39;00m\u001b[38;5;124m.4f\u001b[39m\u001b[38;5;132;01m}\u001b[39;00m\u001b[38;5;124m, \u001b[39m\u001b[38;5;124m'\u001b[39m\n\u001b[1;32m    259\u001b[0m             \u001b[38;5;124mf\u001b[39m\u001b[38;5;124m'\u001b[39m\u001b[38;5;124mgot: \u001b[39m\u001b[38;5;132;01m{\u001b[39;00mmin_dist\u001b[38;5;132;01m:\u001b[39;00m\u001b[38;5;124m.4f\u001b[39m\u001b[38;5;132;01m}\u001b[39;00m\u001b[38;5;124m for \u001b[39m\u001b[38;5;132;01m{\u001b[39;00mmsg\u001b[38;5;132;01m}\u001b[39;00m\u001b[38;5;124m'\u001b[39m)\n\u001b[1;32m    261\u001b[0m \u001b[38;5;28;01mreturn\u001b[39;00m dist_close\n",
      "\u001b[0;31mValueError\u001b[0m: Crystallographic sites are too close together (expected: >0.3922, got: 0.4022 for \nToo close:{site_i.specie.name}({i}) {site_i.frac_coords} - Li(14) [0.36790987 0.9903192  0.29722658]\nToo close:{site_i.specie.name}({i}) {site_i.frac_coords} - Li(13) [0.34949495 0.00459184 0.2877551 ]"
     ]
    }
   ],
   "source": [
    "# Generate the sites from the generated structure\n",
    "sites = SitesData(\n",
    "    structure=structure,\n",
    "    trajectory=trajectory,\n",
    "    floating_specie='Li',\n",
    ")"
   ]
  },
  {
   "cell_type": "code",
   "execution_count": 6,
   "id": "b509c960-d85e-4af8-9f70-2f3c8d742974",
   "metadata": {
    "tags": []
   },
   "outputs": [
    {
     "ename": "NameError",
     "evalue": "name 'sites' is not defined",
     "output_type": "error",
     "traceback": [
      "\u001b[0;31m---------------------------------------------------------------------------\u001b[0m",
      "\u001b[0;31mNameError\u001b[0m                                 Traceback (most recent call last)",
      "Cell \u001b[0;32mIn[6], line 1\u001b[0m\n\u001b[0;32m----> 1\u001b[0m plots\u001b[38;5;241m.\u001b[39mjumps_vs_time(sites\u001b[38;5;241m=\u001b[39m\u001b[43msites\u001b[49m, binsize\u001b[38;5;241m=\u001b[39m\u001b[38;5;241m840\u001b[39m)\n",
      "\u001b[0;31mNameError\u001b[0m: name 'sites' is not defined"
     ]
    }
   ],
   "source": [
    "plots.jumps_vs_time(sites=sites, binsize=840);"
   ]
  },
  {
   "cell_type": "code",
   "execution_count": 7,
   "id": "02b3219a-4082-4fc6-ae16-740263d1ef82",
   "metadata": {
    "tags": []
   },
   "outputs": [
    {
     "ename": "NameError",
     "evalue": "name 'sites' is not defined",
     "output_type": "error",
     "traceback": [
      "\u001b[0;31m---------------------------------------------------------------------------\u001b[0m",
      "\u001b[0;31mNameError\u001b[0m                                 Traceback (most recent call last)",
      "Cell \u001b[0;32mIn[7], line 1\u001b[0m\n\u001b[0;32m----> 1\u001b[0m plots\u001b[38;5;241m.\u001b[39mjumps_3d(sites\u001b[38;5;241m=\u001b[39m\u001b[43msites\u001b[49m)\n",
      "\u001b[0;31mNameError\u001b[0m: name 'sites' is not defined"
     ]
    }
   ],
   "source": [
    "plots.jumps_3d(sites=sites);"
   ]
  },
  {
   "cell_type": "code",
   "execution_count": null,
   "id": "d7baf83c-0ea9-4497-a245-fa6ed70aba01",
   "metadata": {},
   "outputs": [],
   "source": []
  }
 ],
 "metadata": {
  "kernelspec": {
   "display_name": "gemdat",
   "language": "python",
   "name": "gemdat"
  },
  "language_info": {
   "codemirror_mode": {
    "name": "ipython",
    "version": 3
   },
   "file_extension": ".py",
   "mimetype": "text/x-python",
   "name": "python",
   "nbconvert_exporter": "python",
   "pygments_lexer": "ipython3",
   "version": "3.11.4"
  }
 },
 "nbformat": 4,
 "nbformat_minor": 5
}
